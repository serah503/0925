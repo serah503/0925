{
 "cells": [
  {
   "cell_type": "code",
   "execution_count": null,
   "id": "5702cd8c-9875-4828-b964-fb3765e0423c",
   "metadata": {},
   "outputs": [],
   "source": [
    "# 제어문 & 반복문"
   ]
  },
  {
   "cell_type": "code",
   "execution_count": 11,
   "id": "04840dcf-a149-4cb9-a369-b45d6b3ff84e",
   "metadata": {},
   "outputs": [
    {
     "name": "stdin",
     "output_type": "stream",
     "text": [
      "숫자를 입력하세요.. 90\n"
     ]
    },
    {
     "name": "stdout",
     "output_type": "stream",
     "text": [
      "Pass\n"
     ]
    }
   ],
   "source": [
    "x = int(input(\"숫자를 입력하세요..\"))\n",
    "\n",
    "if x >= 90:\n",
    "    print(\"Pass\")"
   ]
  },
  {
   "cell_type": "code",
   "execution_count": null,
   "id": "675ad3b7-0d61-4307-81a3-1d439199a719",
   "metadata": {},
   "outputs": [],
   "source": [
    "##단일 조건 외 그 외 조건에 따른 분기"
   ]
  },
  {
   "cell_type": "code",
   "execution_count": 10,
   "id": "163b56cc-7f02-400a-843c-c6019de86eea",
   "metadata": {},
   "outputs": [
    {
     "name": "stdin",
     "output_type": "stream",
     "text": [
      "숫자를 입력하세요.. 88\n"
     ]
    },
    {
     "name": "stdout",
     "output_type": "stream",
     "text": [
      "Fail\n"
     ]
    }
   ],
   "source": [
    "x = int(input(\"숫자를 입력하세요..\"))\n",
    "\n",
    "if x >= 90:\n",
    "    print(\"Pass\")\n",
    "else:\n",
    "    print(\"Fail\")"
   ]
  },
  {
   "cell_type": "code",
   "execution_count": null,
   "id": "e84cdfaf-a2ab-4ddd-951e-632012abdd56",
   "metadata": {},
   "outputs": [],
   "source": [
    "## 여러 조건에 따른 분기"
   ]
  },
  {
   "cell_type": "code",
   "execution_count": 43,
   "id": "32078c9f-5e82-4ee2-8c19-2d322578015f",
   "metadata": {},
   "outputs": [
    {
     "name": "stdout",
     "output_type": "stream",
     "text": [
      "False\n"
     ]
    }
   ],
   "source": [
    "x = 70\n",
    "print((x >= 80) and (x < 90))\n",
    "if (x >= 80) and (x < 90):\n",
    "    print(\"조건부 합격\")"
   ]
  },
  {
   "cell_type": "code",
   "execution_count": 14,
   "id": "34657cff-3b19-49ed-8225-f809db1abd85",
   "metadata": {},
   "outputs": [
    {
     "name": "stdin",
     "output_type": "stream",
     "text": [
      "숫자를 입력하세요.. 80\n"
     ]
    },
    {
     "name": "stdout",
     "output_type": "stream",
     "text": [
      "조건부 합격\n"
     ]
    }
   ],
   "source": [
    "x = int(input(\"숫자를 입력하세요..\"))\n",
    "if x >= 90:\n",
    "    print(\"Pass\")\n",
    "\n",
    "elif (x >= 80) and (x < 90):\n",
    "    print(\"조건부 합격\")\n",
    "\n",
    "else:\n",
    "    print(\"Fail\")"
   ]
  },
  {
   "cell_type": "code",
   "execution_count": null,
   "id": "d137a890-1026-439c-b8f5-215638c7c78e",
   "metadata": {},
   "outputs": [],
   "source": [
    "## 중첩 조건에 따른 분기"
   ]
  },
  {
   "cell_type": "code",
   "execution_count": 15,
   "id": "4d9523c3-63fc-4be9-acbe-a9b7809ae01e",
   "metadata": {},
   "outputs": [
    {
     "name": "stdin",
     "output_type": "stream",
     "text": [
      "숫자를 입력하세요.. 91\n"
     ]
    },
    {
     "name": "stdout",
     "output_type": "stream",
     "text": [
      "Pass\n"
     ]
    }
   ],
   "source": [
    "x = int(input(\"숫자를 입력하세요..\"))\n",
    "if x >= 90:\n",
    "    if x == 100:\n",
    "        print(\"장학금 지급\")\n",
    "    else:\n",
    "        print(\"Pass\")\n",
    "elif (x >= 80) and (x < 90):\n",
    "    print(\"조건부 합격\")\n",
    "else:\n",
    "    print(\"Fail\")"
   ]
  },
  {
   "cell_type": "code",
   "execution_count": null,
   "id": "e9fedb6e-37eb-4516-869c-06760b07a660",
   "metadata": {},
   "outputs": [],
   "source": [
    "#반복문"
   ]
  },
  {
   "cell_type": "code",
   "execution_count": 16,
   "id": "168dc0f8-1a4d-4d49-845b-a5a67ef296a5",
   "metadata": {},
   "outputs": [
    {
     "name": "stdout",
     "output_type": "stream",
     "text": [
      "안녕하세요\n",
      "안녕하세요\n",
      "안녕하세요\n"
     ]
    }
   ],
   "source": [
    "for i in range(3):\n",
    "    print(\"안녕하세요\")"
   ]
  },
  {
   "cell_type": "code",
   "execution_count": null,
   "id": "03a2111d-65bb-4ea5-9752-f64d16b043cb",
   "metadata": {},
   "outputs": [],
   "source": [
    "- 시퀀스 자료형이 range 대신에 들어감"
   ]
  },
  {
   "cell_type": "code",
   "execution_count": 17,
   "id": "081ec4ba-d82a-4afb-b329-d16ab538a174",
   "metadata": {},
   "outputs": [
    {
     "name": "stdout",
     "output_type": "stream",
     "text": [
      "False\n",
      "True\n",
      "True\n"
     ]
    }
   ],
   "source": [
    "from collections.abc import Sequence\n",
    "\n",
    "my_num = 100\n",
    "my_list = [1, 2, 3]\n",
    "my_string = \"hello\"\n",
    "\n",
    "is_num = isinstance(my_num, Sequence)\n",
    "is_list = isinstance(my_list, Sequence)\n",
    "is_string = isinstance(my_string, Sequence)\n",
    "\n",
    "print(is_num)\n",
    "print(is_list)\n",
    "print(is_string)"
   ]
  },
  {
   "cell_type": "code",
   "execution_count": 18,
   "id": "3f9cc638-6b01-451b-82b2-b39143f4ecda",
   "metadata": {},
   "outputs": [
    {
     "name": "stdout",
     "output_type": "stream",
     "text": [
      "1\n",
      "2\n",
      "3\n"
     ]
    }
   ],
   "source": [
    "for i in my_list:\n",
    "    print(i)"
   ]
  },
  {
   "cell_type": "code",
   "execution_count": 19,
   "id": "928a9e92-27a4-4e6a-920f-32e073b0872f",
   "metadata": {},
   "outputs": [
    {
     "name": "stdout",
     "output_type": "stream",
     "text": [
      "h\n",
      "e\n",
      "l\n",
      "l\n",
      "o\n"
     ]
    }
   ],
   "source": [
    "for i in my_string:\n",
    "    print(i)"
   ]
  },
  {
   "cell_type": "code",
   "execution_count": 20,
   "id": "af7c28a0-ee6b-426c-b150-750c0ac97230",
   "metadata": {},
   "outputs": [
    {
     "data": {
      "text/plain": [
       "[0, 1, 2]"
      ]
     },
     "execution_count": 20,
     "metadata": {},
     "output_type": "execute_result"
    }
   ],
   "source": [
    "list(range(3))"
   ]
  },
  {
   "cell_type": "code",
   "execution_count": null,
   "id": "3905a406-0e40-4da3-a558-97aa50022c8c",
   "metadata": {},
   "outputs": [],
   "source": [
    "##중첩 for문\n",
    "- 구구단 중첩 for문 만들어주세요"
   ]
  },
  {
   "cell_type": "code",
   "execution_count": 24,
   "id": "8995d87b-004f-42f8-80ea-d181860f9e5e",
   "metadata": {},
   "outputs": [
    {
     "name": "stdout",
     "output_type": "stream",
     "text": [
      "x, y\n",
      "x1\n",
      "x1 y1\n",
      "x1 y2\n",
      "x2\n",
      "x2 y1\n",
      "x2 y2\n"
     ]
    }
   ],
   "source": [
    "x_list = [\"x1\", \"x2\"]\n",
    "y_list = [\"y1\", \"y2\"]\n",
    "\n",
    "print(\"x, y\")\n",
    "for x in x_list:\n",
    "    print(x)\n",
    "    for y in y_list:\n",
    "        print(x, y)"
   ]
  },
  {
   "cell_type": "code",
   "execution_count": 26,
   "id": "fe2b00e2-06df-424a-b0af-e68803932ae5",
   "metadata": {},
   "outputs": [
    {
     "name": "stdout",
     "output_type": "stream",
     "text": [
      "James 95\n",
      "Robert 96\n",
      "Lisa 97\n",
      "Mary 94\n"
     ]
    }
   ],
   "source": [
    "names = ['James', 'Robert', 'Lisa', 'Mary']\n",
    "scores = [95, 96, 97, 94]\n",
    "\n",
    "# idx : index 번호\n",
    "for idx in range(len(names)):\n",
    "    print(names[idx], scores[idx])\n"
   ]
  },
  {
   "cell_type": "code",
   "execution_count": null,
   "id": "da15baea-dea0-4eab-88e0-04acbee5ef33",
   "metadata": {},
   "outputs": [],
   "source": [
    "##리스트 컴프리헨션"
   ]
  },
  {
   "cell_type": "code",
   "execution_count": 27,
   "id": "cbf5a6a1-0289-407d-8621-c1fe91bbcdd1",
   "metadata": {},
   "outputs": [
    {
     "name": "stdout",
     "output_type": "stream",
     "text": [
      "[2, 4, 6, 8, 10]\n"
     ]
    }
   ],
   "source": [
    "numbers = [1, 2, 3, 4, 5]\n",
    "result = []\n",
    "for x in numbers:\n",
    "    #각 요소마다 곱하기 2\n",
    "    #print(x*2)\n",
    "    result.append(x*2)\n",
    "\n",
    "print(result)\n",
    "# [2, 4, 6, 8, 10]"
   ]
  },
  {
   "cell_type": "code",
   "execution_count": 36,
   "id": "46cebdb4-2d51-4689-9c0d-af1ccc9114a5",
   "metadata": {},
   "outputs": [
    {
     "data": {
      "text/plain": [
       "[2, 4, 6]"
      ]
     },
     "execution_count": 36,
     "metadata": {},
     "output_type": "execute_result"
    }
   ],
   "source": [
    "numbers = [1, 2, 3, 4, 5, 6]\n",
    "result = []\n",
    "for x in numbers:\n",
    "    if x % 2 == 0:\n",
    "        result.append(x)\n",
    "result"
   ]
  },
  {
   "cell_type": "code",
   "execution_count": 33,
   "id": "52c2b958-978f-4530-a830-4fb066d14725",
   "metadata": {},
   "outputs": [
    {
     "data": {
      "text/plain": [
       "[2, 4, 6]"
      ]
     },
     "execution_count": 33,
     "metadata": {},
     "output_type": "execute_result"
    }
   ],
   "source": [
    "#짝수만 출력하세요\n",
    "numbers = [1, 2, 3, 4, 5, 6]\n",
    "result2 = [x for x in numbers if x % 2 == 0]\n",
    "result2"
   ]
  },
  {
   "cell_type": "code",
   "execution_count": null,
   "id": "78fd5f4f-c153-49b0-be2b-5ce61bdc4370",
   "metadata": {},
   "outputs": [],
   "source": [
    "## while 반복문\n",
    "- 조건문이 참일 때만 반복해서 실행\n",
    "- 데이터 분석: 데이터셋이 정해져 있음\n",
    "    + 행과 열이 고정이 되어 있음\n",
    "    + 범위가 주어진 상태"
   ]
  },
  {
   "cell_type": "code",
   "execution_count": 37,
   "id": "e26f78f5-e5e1-490b-9c23-84865a0dba66",
   "metadata": {},
   "outputs": [
    {
     "name": "stdout",
     "output_type": "stream",
     "text": [
      "1 1\n",
      "2 3\n",
      "3 6\n",
      "4 10\n",
      "5 15\n",
      "6 21\n"
     ]
    }
   ],
   "source": [
    "i = 0\n",
    "total = 0\n",
    "\n",
    "while (total < 20):\n",
    "    i = i + 1\n",
    "    total = total + i\n",
    "    print(i, total)"
   ]
  },
  {
   "cell_type": "code",
   "execution_count": 38,
   "id": "3cfb2a45-72d4-4812-b07d-ca8930899620",
   "metadata": {},
   "outputs": [
    {
     "name": "stdout",
     "output_type": "stream",
     "text": [
      "안녕하세요\n",
      "안녕하세요\n",
      "안녕하세요\n",
      "안녕하세요\n",
      "4\n"
     ]
    }
   ],
   "source": [
    "k = 0\n",
    "while True:\n",
    "    k = k + 1\n",
    "    print(\"안녕하세요\")\n",
    "    if (k > 3):\n",
    "        print(k)\n",
    "        break"
   ]
  },
  {
   "cell_type": "code",
   "execution_count": null,
   "id": "a8998862-62a7-46c2-a47d-39e05536ba67",
   "metadata": {},
   "outputs": [],
   "source": [
    "##사용자 정의 함수"
   ]
  },
  {
   "cell_type": "code",
   "execution_count": 42,
   "id": "836305f0-9e1b-4687-8dce-208cef1cfe6f",
   "metadata": {},
   "outputs": [],
   "source": [
    "def my_1st_func():\n",
    "    print(\"안녕하세요\")\n",
    "    print(\"반갑습니다\")"
   ]
  },
  {
   "cell_type": "code",
   "execution_count": null,
   "id": "e1de9df3-313a-425f-b724-61d9b61d4213",
   "metadata": {},
   "outputs": [],
   "source": [
    "# 문제 1. \n",
    "- 변수 a에 정수 10을, 변수 b에 실수 5.5를 할당하고, 두 변수를 더한 결과의 데이터 타입을 출력하세요."
   ]
  },
  {
   "cell_type": "code",
   "execution_count": 44,
   "id": "86991441-1e8d-4dad-8626-d47d62f6dfb6",
   "metadata": {},
   "outputs": [
    {
     "name": "stdout",
     "output_type": "stream",
     "text": [
      "15.5\n"
     ]
    }
   ],
   "source": [
    "a = 10\n",
    "b = 5.5\n",
    "print(a+b)"
   ]
  },
  {
   "cell_type": "code",
   "execution_count": null,
   "id": "de581f5b-0c8c-4d85-9197-20c6b65f9d2d",
   "metadata": {},
   "outputs": [],
   "source": [
    "# 문제 2\n",
    "- 문자열 \"100\"과 정수 50을 더하려고 할 때 발생하는 오류를 설명하고, 이를 해결하는 방법을 보여주세요."
   ]
  },
  {
   "cell_type": "code",
   "execution_count": 48,
   "id": "8468b075-44a7-4af1-8540-a1705f699fe6",
   "metadata": {},
   "outputs": [
    {
     "name": "stdout",
     "output_type": "stream",
     "text": [
      "150.0\n"
     ]
    }
   ],
   "source": [
    "#TypeError: can only concatenate str (not \"int\") to str\n",
    "\n",
    "print(float(\"100\")+50)"
   ]
  },
  {
   "cell_type": "code",
   "execution_count": null,
   "id": "ecd4eff3-e090-4118-a650-4cb5d6f39da7",
   "metadata": {},
   "outputs": [],
   "source": [
    "# 문제 3. \n",
    "- 리스트 [1, 2, 3]와 튜플 (4, 5, 6)을 더할 수 있는지 확인하고, 가능하다면 결과를 출력하세요."
   ]
  },
  {
   "cell_type": "code",
   "execution_count": 49,
   "id": "459335a8-d658-483f-bfb4-81968efd44f6",
   "metadata": {},
   "outputs": [
    {
     "name": "stdout",
     "output_type": "stream",
     "text": [
      "[1, 2, 3, 4, 5, 6]\n"
     ]
    }
   ],
   "source": [
    "List=[1, 2, 3]\n",
    "Tuple=[4, 5, 6]\n",
    "\n",
    "Add = List+Tuple\n",
    "print(Add)"
   ]
  },
  {
   "cell_type": "code",
   "execution_count": null,
   "id": "35283017-a863-45e4-9981-f3a14c0cccdf",
   "metadata": {},
   "outputs": [],
   "source": [
    "# 문제 4. \n",
    "- 변수 x에 None을 할당하고, 이를 다른 데이터 타입으로 변환할 수 있는지 확인하세요."
   ]
  },
  {
   "cell_type": "code",
   "execution_count": 54,
   "id": "e01178cd-d95b-43f0-807a-babdd77bcf55",
   "metadata": {},
   "outputs": [
    {
     "data": {
      "text/plain": [
       "'None'"
      ]
     },
     "execution_count": 54,
     "metadata": {},
     "output_type": "execute_result"
    }
   ],
   "source": [
    "x = None\n",
    "str(x)"
   ]
  },
  {
   "cell_type": "code",
   "execution_count": null,
   "id": "8506d2d0-6d24-4a7d-ad15-6e4777bdec30",
   "metadata": {},
   "outputs": [],
   "source": [
    "# 문제 5. \n",
    "- 변수 a에 정수 3을 할당하고, 이를 부동 소수점 숫자 3.0으로 자동 변환하도록 하세요."
   ]
  },
  {
   "cell_type": "code",
   "execution_count": 55,
   "id": "84bf4c32-b213-435a-aec6-68fa19d043e3",
   "metadata": {},
   "outputs": [
    {
     "data": {
      "text/plain": [
       "3.0"
      ]
     },
     "execution_count": 55,
     "metadata": {},
     "output_type": "execute_result"
    }
   ],
   "source": [
    "a = 3\n",
    "float(a)"
   ]
  },
  {
   "cell_type": "code",
   "execution_count": null,
   "id": "215c9ee0-20f7-4eb5-9cca-539cd751cf46",
   "metadata": {},
   "outputs": [],
   "source": [
    "# 문제 6. \n",
    "- 변수 s에 문자열 \"Hello\"를 할당하고, 이를 3번 반복한 결과의 데이터 타입을 확인하세요."
   ]
  },
  {
   "cell_type": "code",
   "execution_count": 58,
   "id": "a1ee1c33-a7fd-48dd-bf3e-85162ba9c788",
   "metadata": {},
   "outputs": [
    {
     "name": "stdout",
     "output_type": "stream",
     "text": [
      "Hello\n",
      "Hello\n",
      "Hello\n"
     ]
    }
   ],
   "source": [
    "s = \"Hello\"\n",
    "for i in range(3):\n",
    "    print(s)"
   ]
  },
  {
   "cell_type": "code",
   "execution_count": null,
   "id": "a0cdd9db-7391-493b-9d61-026d87e3af63",
   "metadata": {},
   "outputs": [],
   "source": [
    "# 문제 7. \n",
    "- 변수 x에 정수 7을 할당하고, 이를 문자열로 변환한 후 문자열 \"3\"과 더해보세요."
   ]
  },
  {
   "cell_type": "code",
   "execution_count": 60,
   "id": "734cb48f-4899-4065-90ab-a16215dd5749",
   "metadata": {},
   "outputs": [
    {
     "data": {
      "text/plain": [
       "'73'"
      ]
     },
     "execution_count": 60,
     "metadata": {},
     "output_type": "execute_result"
    }
   ],
   "source": [
    "x = 7\n",
    "str(x) + \"3\""
   ]
  },
  {
   "cell_type": "code",
   "execution_count": null,
   "id": "9b26aeb5-0041-4865-8e46-0ea19a61e602",
   "metadata": {},
   "outputs": [],
   "source": [
    "# 문제 8. \n",
    "- 변수 a에 True, 변수 b에 False를 할당하고, 두 값을 더한 결과와 그 데이터 타입을 확인하세요."
   ]
  },
  {
   "cell_type": "code",
   "execution_count": 62,
   "id": "894fb327-8285-4b98-bb9b-f6c7c1b8c4ed",
   "metadata": {},
   "outputs": [
    {
     "name": "stdout",
     "output_type": "stream",
     "text": [
      "1\n"
     ]
    },
    {
     "data": {
      "text/plain": [
       "int"
      ]
     },
     "execution_count": 62,
     "metadata": {},
     "output_type": "execute_result"
    }
   ],
   "source": [
    "a = True\n",
    "b = False\n",
    "print(a+b)\n",
    "type(a+b)"
   ]
  },
  {
   "cell_type": "code",
   "execution_count": null,
   "id": "d8e92474-f8c9-4ddd-aca8-25993367b168",
   "metadata": {},
   "outputs": [],
   "source": [
    "# 문제 9. \n",
    "- 변수 a에 25를 할당하고, 이 값을 0.5로 나눈 결과와 그 데이터 타입을 확인하세요."
   ]
  },
  {
   "cell_type": "code",
   "execution_count": 64,
   "id": "95f4b715-b00c-4548-bf0d-5ed5e0d50b46",
   "metadata": {},
   "outputs": [
    {
     "name": "stdout",
     "output_type": "stream",
     "text": [
      "50.0\n"
     ]
    },
    {
     "data": {
      "text/plain": [
       "float"
      ]
     },
     "execution_count": 64,
     "metadata": {},
     "output_type": "execute_result"
    }
   ],
   "source": [
    "a = 25\n",
    "result = a/0.5\n",
    "print(result)\n",
    "type(result)"
   ]
  },
  {
   "cell_type": "code",
   "execution_count": null,
   "id": "96a6ed50-9b58-406c-bfa4-e2c7937a7615",
   "metadata": {},
   "outputs": [],
   "source": [
    "# 문제 10. \n",
    "- 변수 text에 문자열 \"12345\"를 할당하고, 이를 정수형으로 변환한 후, 10을 더한 결과를 출력하세요."
   ]
  },
  {
   "cell_type": "code",
   "execution_count": 65,
   "id": "1110d501-4d58-4f8e-a62f-892a763f020d",
   "metadata": {},
   "outputs": [
    {
     "data": {
      "text/plain": [
       "12355"
      ]
     },
     "execution_count": 65,
     "metadata": {},
     "output_type": "execute_result"
    }
   ],
   "source": [
    "text = \"12345\"\n",
    "int(text) + 10"
   ]
  },
  {
   "cell_type": "code",
   "execution_count": null,
   "id": "17b7ca91-2557-464f-873f-49afd22b90fd",
   "metadata": {},
   "outputs": [],
   "source": [
    "# 문제 11. \n",
    "- 리스트 [10, 20, 30, 40, 50]에서 가장 큰 값을 찾아서 출력하세요."
   ]
  },
  {
   "cell_type": "code",
   "execution_count": 66,
   "id": "898edd3d-4c57-462b-befd-c5da08d62a38",
   "metadata": {},
   "outputs": [
    {
     "data": {
      "text/plain": [
       "50"
      ]
     },
     "execution_count": 66,
     "metadata": {},
     "output_type": "execute_result"
    }
   ],
   "source": [
    "List = [10, 20, 30, 40, 50]\n",
    "max(List)"
   ]
  },
  {
   "cell_type": "code",
   "execution_count": null,
   "id": "0521e80f-9ac4-4b8a-9d33-7ee3436b73a0",
   "metadata": {},
   "outputs": [],
   "source": [
    "# 문제 12. \n",
    "- 리스트 [1, 2, 3, 4, 5]에서 모든 요소를 더한 결과를 출력하세요."
   ]
  },
  {
   "cell_type": "code",
   "execution_count": 115,
   "id": "faefdfac-9577-4bc7-a0ba-feecd46dba91",
   "metadata": {},
   "outputs": [
    {
     "name": "stdout",
     "output_type": "stream",
     "text": [
      "15\n"
     ]
    }
   ],
   "source": [
    "numbers = [1, 2, 3, 4, 5]\n",
    "print(sum(numbers))"
   ]
  },
  {
   "cell_type": "code",
   "execution_count": null,
   "id": "2ff68699-f0b2-4899-b819-a8fe073fab81",
   "metadata": {},
   "outputs": [],
   "source": [
    "# 문제 13. \n",
    "- 튜플 (5, 10, 15, 20)에서 두 번째 요소를 출력하세요."
   ]
  },
  {
   "cell_type": "code",
   "execution_count": 71,
   "id": "baaf97e3-5777-4382-9653-b83b4272f3d3",
   "metadata": {},
   "outputs": [
    {
     "data": {
      "text/plain": [
       "10"
      ]
     },
     "execution_count": 71,
     "metadata": {},
     "output_type": "execute_result"
    }
   ],
   "source": [
    "Tuple = (5, 10, 15, 20)\n",
    "Tuple[1]"
   ]
  },
  {
   "cell_type": "code",
   "execution_count": null,
   "id": "a6b5a1e9-10c0-4642-9ba2-a31dbee27d5f",
   "metadata": {},
   "outputs": [],
   "source": [
    "# 문제 14. \n",
    "- 튜플 (1, 2, 3)와 (4, 5, 6)을 합쳐서 새로운 튜플을 만들고 출력하세요."
   ]
  },
  {
   "cell_type": "code",
   "execution_count": 72,
   "id": "89ecd907-a756-4f06-8a91-ee9a253c69da",
   "metadata": {},
   "outputs": [
    {
     "data": {
      "text/plain": [
       "(1, 2, 3, 4, 5, 6)"
      ]
     },
     "execution_count": 72,
     "metadata": {},
     "output_type": "execute_result"
    }
   ],
   "source": [
    "Tuple1 = (1, 2, 3)\n",
    "Tuple2 = (4, 5, 6)\n",
    "Tuple1+Tuple2"
   ]
  },
  {
   "cell_type": "code",
   "execution_count": null,
   "id": "0cc1c646-51c7-4fa3-9e92-279ae33e50e3",
   "metadata": {},
   "outputs": [],
   "source": [
    "# 문제 15. \n",
    "- 딕셔너리 {'a': 1, 'b': 2, 'c': 3}에서 키 'b'의 값을 10으로 변경하고 출력하세요."
   ]
  },
  {
   "cell_type": "code",
   "execution_count": 78,
   "id": "540ad98c-8244-4526-8693-91893e69f45f",
   "metadata": {},
   "outputs": [
    {
     "name": "stdout",
     "output_type": "stream",
     "text": [
      "{'a': 1, 'b': 10, 'c': 3}\n"
     ]
    }
   ],
   "source": [
    "Dic={'a': 1, 'b': 2, 'c': 3}\n",
    "Dic['b']=10\n",
    "print(Dic)"
   ]
  },
  {
   "cell_type": "code",
   "execution_count": null,
   "id": "2d0154c1-b4a0-49d4-b012-237b7dc65e85",
   "metadata": {},
   "outputs": [],
   "source": [
    "# 문제 16.\n",
    "- 딕셔너리 {'name': 'Alice', 'age': 25, 'city': 'New York'}에서 모든 키를 출력하세요."
   ]
  },
  {
   "cell_type": "code",
   "execution_count": 116,
   "id": "714f4de2-615f-4185-9e81-dd73fef16038",
   "metadata": {},
   "outputs": [
    {
     "name": "stdout",
     "output_type": "stream",
     "text": [
      "dict_keys(['name', 'age', 'city'])\n"
     ]
    }
   ],
   "source": [
    "Dic = {'name': 'Alice', 'age': 25, 'city': 'New York'}\n",
    "print(Dic.keys())"
   ]
  },
  {
   "cell_type": "code",
   "execution_count": null,
   "id": "ff18cf31-4181-44ce-8668-b3d4c1abdbe2",
   "metadata": {},
   "outputs": [],
   "source": [
    "# 문제 17. \n",
    "- while 루프를 사용하여 1부터 5까지의 숫자를 출력하세요."
   ]
  },
  {
   "cell_type": "code",
   "execution_count": 110,
   "id": "f7abea4a-be00-477c-8ed9-a3adfaed5100",
   "metadata": {},
   "outputs": [
    {
     "name": "stdout",
     "output_type": "stream",
     "text": [
      "1\n",
      "2\n",
      "3\n",
      "4\n",
      "5\n"
     ]
    }
   ],
   "source": [
    "i = 1\n",
    "while i <= 5:\n",
    "    print(i)\n",
    "    i += 1"
   ]
  },
  {
   "cell_type": "code",
   "execution_count": null,
   "id": "a98e72bd-c649-40b6-ac02-c2783d7711cd",
   "metadata": {},
   "outputs": [],
   "source": [
    "# 문제 18. \n",
    "- while 루프를 사용하여 10부터 1까지 거꾸로 숫자를 출력하세요."
   ]
  },
  {
   "cell_type": "code",
   "execution_count": 109,
   "id": "e951cbc5-ad6e-4d9b-93af-c62210bbcb2a",
   "metadata": {},
   "outputs": [
    {
     "name": "stdout",
     "output_type": "stream",
     "text": [
      "10\n",
      "9\n",
      "8\n",
      "7\n",
      "6\n",
      "5\n",
      "4\n",
      "3\n",
      "2\n",
      "1\n"
     ]
    }
   ],
   "source": [
    "i = 10\n",
    "while i >= 1:\n",
    "    print(i)\n",
    "    i -= 1"
   ]
  },
  {
   "cell_type": "code",
   "execution_count": null,
   "id": "190ebe2b-5dcd-493e-8ed2-c819d8502cc5",
   "metadata": {},
   "outputs": [],
   "source": [
    "# 문제 19. \n",
    "- for 루프를 사용하여 리스트 [2, 4, 6, 8, 10]의 각 요소에 2를 곱한 값을 출력하세요."
   ]
  },
  {
   "cell_type": "code",
   "execution_count": 108,
   "id": "9954ad1a-2fc7-423d-8d29-48ea72033c7f",
   "metadata": {},
   "outputs": [
    {
     "name": "stdout",
     "output_type": "stream",
     "text": [
      "4\n",
      "8\n",
      "12\n",
      "16\n",
      "20\n"
     ]
    }
   ],
   "source": [
    "List = [2, 4, 6, 8, 10]\n",
    "\n",
    "for x in List:\n",
    "    print(x*2)"
   ]
  },
  {
   "cell_type": "code",
   "execution_count": null,
   "id": "1aef5a7e-389d-4679-9047-5d6f89d201a4",
   "metadata": {},
   "outputs": [],
   "source": [
    "# 문제 20. \n",
    "- for 루프를 사용하여 문자열 \"Python\"의 각 문자를 출력하세요."
   ]
  },
  {
   "cell_type": "code",
   "execution_count": 106,
   "id": "cfa3de6a-6d03-4119-8f0f-b5116035f8fa",
   "metadata": {},
   "outputs": [
    {
     "name": "stdout",
     "output_type": "stream",
     "text": [
      "P\n",
      "y\n",
      "t\n",
      "h\n",
      "o\n",
      "n\n"
     ]
    }
   ],
   "source": [
    "Text: Python\"\n",
    "for i in Text:\n",
    "    print(i)"
   ]
  },
  {
   "cell_type": "code",
   "execution_count": null,
   "id": "84be04bb-b4a4-4f4f-b906-5e555224ed53",
   "metadata": {},
   "outputs": [],
   "source": [
    "## 인자(인수)는 있으나 반환 값이 있는 함수\n",
    "- 코드 문서화 필수"
   ]
  },
  {
   "cell_type": "code",
   "execution_count": 125,
   "id": "0cc3a592-20df-41a8-9618-ca8db8e086dd",
   "metadata": {},
   "outputs": [],
   "source": [
    "def my_calc(x, y):\n",
    "    z = x * y\n",
    "    return z"
   ]
  },
  {
   "cell_type": "code",
   "execution_count": 126,
   "id": "1a7ec6b0-124f-49f2-8b94-51393f135ace",
   "metadata": {},
   "outputs": [
    {
     "data": {
      "text/plain": [
       "12"
      ]
     },
     "execution_count": 126,
     "metadata": {},
     "output_type": "execute_result"
    }
   ],
   "source": [
    "my_calc(3, 4)"
   ]
  },
  {
   "cell_type": "code",
   "execution_count": null,
   "id": "3b7c80c8-3178-46ab-8292-0450b7421af5",
   "metadata": {},
   "outputs": [],
   "source": [
    "## 변수의 유효 범위\n",
    "- 키워드 : 전역 변수, 지역 변수 "
   ]
  },
  {
   "cell_type": "code",
   "execution_count": 128,
   "id": "d11bb1f6-02ca-4407-a0ad-5baa55895118",
   "metadata": {},
   "outputs": [],
   "source": [
    "a = 5           # 전역 변수\n",
    "\n",
    "def func1():\n",
    "    a = 1       # 지역 변수\n",
    "    print(\"[func1] 지역 변수 a =\", a)\n",
    "\n",
    "def func2():\n",
    "    a = 2       # 지역 변수\n",
    "    print(\"[func2] 지역 변수 a =\", a)\n",
    "\n",
    "def func3():\n",
    "    print(\"[func3] 지역 변수 a =\", a)\n",
    "\n",
    "def func4():\n",
    "    global a # 함수 내에서 전역 변수 변경 위해 선언\n",
    "    a = 4\n",
    "    print(\"[func4] 전역 변수 a = \", a)"
   ]
  },
  {
   "cell_type": "code",
   "execution_count": 129,
   "id": "7bca0b2d-8727-415e-9ff6-d578c1edc6d9",
   "metadata": {},
   "outputs": [
    {
     "name": "stdout",
     "output_type": "stream",
     "text": [
      "[func1] 지역 변수 a = 1\n",
      "[func2] 지역 변수 a = 2\n",
      "[func3] 지역 변수 a = 5\n"
     ]
    }
   ],
   "source": [
    "func1()\n",
    "func2()\n",
    "func3()"
   ]
  },
  {
   "cell_type": "code",
   "execution_count": 130,
   "id": "d6d8e34d-50b8-4b13-bc87-3ffbe6992802",
   "metadata": {},
   "outputs": [
    {
     "name": "stdout",
     "output_type": "stream",
     "text": [
      "[func1] 지역 변수 a = 1\n",
      "[func2] 지역 변수 a = 2\n",
      "전역 변수 a= 5\n"
     ]
    }
   ],
   "source": [
    "func1()\n",
    "func2()\n",
    "print(\"전역 변수 a=\", a) # 전역 변수 출력"
   ]
  },
  {
   "cell_type": "code",
   "execution_count": 131,
   "id": "f685e5da-0a62-4310-a4ad-b6ce5d0e936d",
   "metadata": {},
   "outputs": [
    {
     "name": "stdout",
     "output_type": "stream",
     "text": [
      "[func3] 지역 변수 a = 5\n",
      "[func4] 전역 변수 a =  4\n",
      "[func3] 지역 변수 a = 4\n"
     ]
    }
   ],
   "source": [
    "func3()\n",
    "func4()\n",
    "func3()"
   ]
  },
  {
   "cell_type": "code",
   "execution_count": 132,
   "id": "c706fdd1-36e3-444a-93af-83f62aeb8321",
   "metadata": {},
   "outputs": [
    {
     "ename": "UnboundLocalError",
     "evalue": "cannot access local variable 'c' where it is not associated with a value",
     "output_type": "error",
     "traceback": [
      "\u001b[0;31m---------------------------------------------------------------------------\u001b[0m",
      "\u001b[0;31mUnboundLocalError\u001b[0m                         Traceback (most recent call last)",
      "Cell \u001b[0;32mIn[132], line 7\u001b[0m\n\u001b[1;32m      5\u001b[0m     c \u001b[38;5;241m=\u001b[39m c \u001b[38;5;241m+\u001b[39m \u001b[38;5;241m2\u001b[39m\n\u001b[1;32m      6\u001b[0m     \u001b[38;5;28mprint\u001b[39m(c)\n\u001b[0;32m----> 7\u001b[0m \u001b[43madd\u001b[49m\u001b[43m(\u001b[49m\u001b[43m)\u001b[49m\n",
      "Cell \u001b[0;32mIn[132], line 5\u001b[0m, in \u001b[0;36madd\u001b[0;34m()\u001b[0m\n\u001b[1;32m      3\u001b[0m \u001b[38;5;28;01mdef\u001b[39;00m \u001b[38;5;21madd\u001b[39m():\n\u001b[1;32m      4\u001b[0m     \u001b[38;5;66;03m# global c\u001b[39;00m\n\u001b[0;32m----> 5\u001b[0m     c \u001b[38;5;241m=\u001b[39m \u001b[43mc\u001b[49m \u001b[38;5;241m+\u001b[39m \u001b[38;5;241m2\u001b[39m\n\u001b[1;32m      6\u001b[0m     \u001b[38;5;28mprint\u001b[39m(c)\n",
      "\u001b[0;31mUnboundLocalError\u001b[0m: cannot access local variable 'c' where it is not associated with a value"
     ]
    }
   ],
   "source": [
    "c = 1\n",
    "\n",
    "def add():\n",
    "    # global c\n",
    "    c = c + 2\n",
    "    print(c)\n",
    "add()"
   ]
  },
  {
   "cell_type": "code",
   "execution_count": null,
   "id": "e4581be7-e2b4-43ce-b760-e4ca3cdee407",
   "metadata": {},
   "outputs": [],
   "source": [
    "## 가변인수 예제\n",
    "- 학생의 점수를 입력받아 평균 점수를 계산하는 함수\n",
    "  + 문제점 : 각 학생들마다 시험 본 과목수가 다 다름\n",
    "    - A : 3과목\n",
    "    - B : 2과목\n",
    "    - C : 5과목"
   ]
  },
  {
   "cell_type": "code",
   "execution_count": 133,
   "id": "f02e2a66-2bb6-40ca-8704-b258a378ae18",
   "metadata": {},
   "outputs": [],
   "source": [
    "def calculate_average(name, *scores):\n",
    "    print(type(scores))\n",
    "    if scores:  # 가변 인수가 비어있지 않은지 확인\n",
    "        average_score = sum(scores) / len(scores)\n",
    "        print(f\"{name}의 평균 점수는 {average_score:.2f}점입니다.\")\n",
    "    else:\n",
    "        print(f\"{name}의 점수를 입력하지 않았습니다.\")"
   ]
  },
  {
   "cell_type": "code",
   "execution_count": 134,
   "id": "aff18fd2-0c5c-4c01-b6bd-987bdaf3e27e",
   "metadata": {},
   "outputs": [
    {
     "name": "stdout",
     "output_type": "stream",
     "text": [
      "<class 'tuple'>\n",
      "Evan의 평균 점수는 82.00점입니다.\n"
     ]
    }
   ],
   "source": [
    "calculate_average(\"Evan\", 85, 70, 75, 100, 80)"
   ]
  },
  {
   "cell_type": "code",
   "execution_count": 135,
   "id": "5b6ce1b1-ab5d-4a41-9529-ae14615f1293",
   "metadata": {},
   "outputs": [
    {
     "name": "stdout",
     "output_type": "stream",
     "text": [
      "<class 'tuple'>\n",
      "A의 평균 점수는 80.00점입니다.\n"
     ]
    }
   ],
   "source": [
    "calculate_average(\"A\", 90, 70)"
   ]
  },
  {
   "cell_type": "code",
   "execution_count": 136,
   "id": "47881e84-9b08-4a5c-8f4d-3c2b937da06c",
   "metadata": {},
   "outputs": [
    {
     "name": "stdout",
     "output_type": "stream",
     "text": [
      "<class 'tuple'>\n",
      "C의 점수를 입력하지 않았습니다.\n"
     ]
    }
   ],
   "source": [
    "calculate_average(\"C\")"
   ]
  },
  {
   "cell_type": "code",
   "execution_count": 137,
   "id": "a1a663ee-aff4-46be-96e2-d50b9bf2202a",
   "metadata": {},
   "outputs": [],
   "source": [
    "def calculate_average(name, scores):\n",
    "    if len(scores) > 0:  # 리스트 확인\n",
    "        average_score = sum(scores) / len(scores)\n",
    "        print(f\"{name}의 평균 점수는 {average_score:.2f}점입니다.\")\n",
    "    else:\n",
    "        print(f\"{name}의 점수를 입력하지 않았습니다.\")"
   ]
  },
  {
   "cell_type": "code",
   "execution_count": null,
   "id": "2b1be333-98e2-4293-bd36-7921e4f47667",
   "metadata": {},
   "outputs": [],
   "source": [
    "## 키워드 인수 확인 예제\n",
    "- 학생의 이름, 과목별, 점수, 그리고 학년을 받아 학생의 성적을 출력하는 함수\n",
    "    + 고정 인수 : 학생의 이름\n",
    "    + 가변 인수 : 여러 개의 과목 점수\n",
    "    + 키워드 인수 : 학년 정보"
   ]
  },
  {
   "cell_type": "code",
   "execution_count": 138,
   "id": "a121bd63-e125-4a77-836c-664d3b6a50f4",
   "metadata": {},
   "outputs": [
    {
     "name": "stdout",
     "output_type": "stream",
     "text": [
      "학생 이름: Alice\n",
      "평균 점수: 88.33\n",
      "grade: 2학년\n",
      "school: Seoul High School\n",
      "\n",
      "\n",
      "학생 이름: Bob\n",
      "평균 점수: 80.75\n",
      "grade: 3학년\n",
      "school: Busan High School\n",
      "hobby: 축구\n",
      "\n",
      "\n",
      "학생 이름: Charlie\n",
      "점수를 입력하지 않았습니다.\n",
      "grade: 1학년\n"
     ]
    }
   ],
   "source": [
    "# def student_report(name, *args, **kwargs):\n",
    "\n",
    "def student_report(name, *scores, **details):\n",
    "    print(f\"학생 이름: {name}\")\n",
    "\n",
    "    # 점수가 입력된 경우에만 평균을 계산\n",
    "    if scores:\n",
    "        average_score = sum(scores) / len(scores)\n",
    "        print(f\"평균 점수: {average_score:.2f}\")\n",
    "    else:\n",
    "        print(\"점수를 입력하지 않았습니다.\")\n",
    "\n",
    "    # 키워드 인수로 전달된 추가 정보를 출력\n",
    "    for key, value in details.items():\n",
    "        print(f\"{key}: {value}\")\n",
    "\n",
    "# 함수 호출 예제\n",
    "student_report(\"Alice\", 88, 92, 85, grade=\"2학년\", school=\"Seoul High School\")\n",
    "print(\"\\n\")\n",
    "student_report(\"Bob\", 75, 80, 78, 90, grade=\"3학년\", school=\"Busan High School\", hobby=\"축구\")\n",
    "print(\"\\n\")\n",
    "student_report(\"Charlie\", grade=\"1학년\")"
   ]
  },
  {
   "cell_type": "code",
   "execution_count": 148,
   "id": "f20c1db9-dd35-40d2-a20a-0ad536336cc4",
   "metadata": {},
   "outputs": [
    {
     "name": "stdout",
     "output_type": "stream",
     "text": [
      "Streamlit Evan\n",
      "18.7\n"
     ]
    }
   ],
   "source": [
    "class 책:\n",
    "    title = None #속성\n",
    "    author = None #속성\n",
    "    pages = 0 #속성\n",
    "    price = 0 #속성\n",
    "    discount = 0 #속성\n",
    "    \n",
    "    def 읽는시간(self, reading_speed = 30):\n",
    "        return round(self.pages / reading_speed, 1)\n",
    "\n",
    "#인스턴스 생성\n",
    "책01호 = 책()\n",
    "책01호.title = \"Streamlit\"\n",
    "책01호.author = \"Evan\"\n",
    "책01호.pages = 560\n",
    "책01호.price = 40000\n",
    "책01호.discount = 10\n",
    "\n",
    "print(책01호.title, 책01호.author)\n",
    "출력값 = 책01호.읽는시간()\n",
    "print(출력값)"
   ]
  },
  {
   "cell_type": "code",
   "execution_count": null,
   "id": "b052e927-9dbf-4c6a-878a-75a02da05ca3",
   "metadata": {},
   "outputs": [],
   "source": [
    "#클래스"
   ]
  },
  {
   "cell_type": "code",
   "execution_count": 146,
   "id": "f11eda37-ac0d-4121-96ef-f6f256d5f84a",
   "metadata": {},
   "outputs": [
    {
     "name": "stdout",
     "output_type": "stream",
     "text": [
      "Streamlit\n"
     ]
    }
   ],
   "source": [
    "#인스턴스 생성\n",
    "책02호 = 책()\n",
    "책02호.title = \"Streamlit\"\n",
    "책02호.author = \"Evan\"\n",
    "책02호.pages = 560\n",
    "책02호.price = 40000\n",
    "책02호.discount = 10\n",
    "\n",
    "print(책02호.title)"
   ]
  },
  {
   "cell_type": "code",
   "execution_count": 149,
   "id": "e09d1707-f3e9-4b85-bf7c-71423be80382",
   "metadata": {},
   "outputs": [
    {
     "name": "stdout",
     "output_type": "stream",
     "text": [
      "Streamlit Evan\n",
      "112.0\n"
     ]
    }
   ],
   "source": [
    "print(책01호.title, 책01호.author)\n",
    "출력값 = 책01호.읽는시간(reading_speed = 5)\n",
    "print(출력값)"
   ]
  },
  {
   "cell_type": "code",
   "execution_count": null,
   "id": "2f72e0da-7bf5-45d9-8769-f3875525b871",
   "metadata": {},
   "outputs": [],
   "source": [
    "#코드 업데이트"
   ]
  },
  {
   "cell_type": "code",
   "execution_count": 168,
   "id": "29f11253-3982-48a6-ab30-5d5350bd41fe",
   "metadata": {},
   "outputs": [],
   "source": [
    "class 책():\n",
    "    #initialize : 초기화\n",
    "    def __init__(self, title, author, pages, price, discount_rate=0):\n",
    "        self.title = title #책의 제목\n",
    "        self.author = author\n",
    "        self.pages = pages\n",
    "        self.price = price\n",
    "        self.discount_rate = 0 #아무리 값을 전달해도 입력받는 값이 없음\n",
    "\n",
    "    def reading_time(self, reading_speed = 30):\n",
    "        return round(self.pages / reading_speed, 1)\n",
    "\n",
    "    def apply_discount(self):\n",
    "        return self.price * (1 - self.discount_rate)"
   ]
  },
  {
   "cell_type": "code",
   "execution_count": 169,
   "id": "52137432-5f19-4e43-ac2f-9eeac28b5e3f",
   "metadata": {},
   "outputs": [
    {
     "data": {
      "text/plain": [
       "('샘플', '샘플2')"
      ]
     },
     "execution_count": 169,
     "metadata": {},
     "output_type": "execute_result"
    }
   ],
   "source": [
    "책01호 = 책(\"샘플\", \"Evan\", 300, 20000, 0.1)\n",
    "책02호 = 책(\"샘플2\", \"Evan\", 400, 20000, 0.1)\n",
    "책03호 = 책(\"샘플3\", \"Evan\", 500, 20000, 0.1)\n",
    "책04호 = 책(\"샘플4\", \"Evan\", 600, 20000, 0.1)\n",
    "책01호.title, 책02호.title"
   ]
  },
  {
   "cell_type": "code",
   "execution_count": 173,
   "id": "f0696841-8a2f-43bf-ab4b-78dd7b23bfcf",
   "metadata": {},
   "outputs": [
    {
     "data": {
      "text/plain": [
       "10.0"
      ]
     },
     "execution_count": 173,
     "metadata": {},
     "output_type": "execute_result"
    }
   ],
   "source": [
    "책01호 = 책(\"샘플\", \"Evan\", 300, 10000, 0.1)\n",
    "책01호.reading_time()"
   ]
  },
  {
   "cell_type": "code",
   "execution_count": 174,
   "id": "3e5dd08f-a69a-4eeb-b3b4-1660072af29a",
   "metadata": {},
   "outputs": [
    {
     "data": {
      "text/plain": [
       "10000"
      ]
     },
     "execution_count": 174,
     "metadata": {},
     "output_type": "execute_result"
    }
   ],
   "source": [
    "책01호.apply_discount()"
   ]
  },
  {
   "cell_type": "code",
   "execution_count": null,
   "id": "5a449980-f1a5-4046-a82e-41d31f56bcfa",
   "metadata": {},
   "outputs": [],
   "source": []
  }
 ],
 "metadata": {
  "kernelspec": {
   "display_name": "Python 3 (ipykernel)",
   "language": "python",
   "name": "python3"
  },
  "language_info": {
   "codemirror_mode": {
    "name": "ipython",
    "version": 3
   },
   "file_extension": ".py",
   "mimetype": "text/x-python",
   "name": "python",
   "nbconvert_exporter": "python",
   "pygments_lexer": "ipython3",
   "version": "3.12.2"
  }
 },
 "nbformat": 4,
 "nbformat_minor": 5
}
